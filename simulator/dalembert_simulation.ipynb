{
 "cells": [
  {
   "cell_type": "code",
   "execution_count": 126,
   "metadata": {},
   "outputs": [],
   "source": [
    "from roulette import Roulette\n",
    "from core import *\n",
    "from simulations_core import *\n",
    "from simulations_plots_core import *\n",
    "roulette = Roulette()"
   ]
  },
  {
   "cell_type": "code",
   "execution_count": 127,
   "metadata": {},
   "outputs": [],
   "source": [
    "def transformation_on_win(bet_history):\n",
    "    next_bet = bet_history[-1] - 1 if (bet_history[-1] - 1) > 0 else bet_history[-1]\n",
    "    return next_bet, bet_history"
   ]
  },
  {
   "cell_type": "code",
   "execution_count": 128,
   "metadata": {},
   "outputs": [],
   "source": [
    "def transformation_on_loss(bet_history):\n",
    "    return bet_history[-1] + 1, bet_history"
   ]
  },
  {
   "cell_type": "code",
   "execution_count": 129,
   "metadata": {},
   "outputs": [],
   "source": [
    "def dalembert_betting(goal_money_won):\n",
    "    return goal_money_betting_even_bet(roulette, goal_money_won, 1, transformation_on_loss, \n",
    "                                        transformation_on_win)"
   ]
  },
  {
   "cell_type": "code",
   "execution_count": 130,
   "metadata": {},
   "outputs": [],
   "source": [
    "money_histories = simulate_different_goal_money(\n",
    "                    betting_type = dalembert_betting, \n",
    "                    goal_money_list = [10], \n",
    "                    number_histories = 100)"
   ]
  },
  {
   "cell_type": "code",
   "execution_count": null,
   "metadata": {},
   "outputs": [
    {
     "data": {
      "text/plain": [
       "98"
      ]
     },
     "execution_count": 125,
     "metadata": {},
     "output_type": "execute_result"
    }
   ],
   "source": [
    "max([len(history) for history in money_histories[10]])"
   ]
  },
  {
   "cell_type": "code",
   "execution_count": null,
   "metadata": {},
   "outputs": [],
   "source": []
  }
 ],
 "metadata": {
  "kernelspec": {
   "display_name": "base",
   "language": "python",
   "name": "python3"
  },
  "language_info": {
   "codemirror_mode": {
    "name": "ipython",
    "version": 3
   },
   "file_extension": ".py",
   "mimetype": "text/x-python",
   "name": "python",
   "nbconvert_exporter": "python",
   "pygments_lexer": "ipython3",
   "version": "3.11.5"
  }
 },
 "nbformat": 4,
 "nbformat_minor": 2
}
